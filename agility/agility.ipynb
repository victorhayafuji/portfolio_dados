{
 "cells": [
  {
   "cell_type": "markdown",
   "id": "9054d763-d209-44bf-b488-5b5609062038",
   "metadata": {},
   "source": [
    "# Decifrando Oportunidades - Será o Curso de Trading Algorítmico o próximo sucesso?"
   ]
  },
  {
   "cell_type": "markdown",
   "id": "ad2ed00f-aa01-4569-a3d9-668a830b9e68",
   "metadata": {},
   "source": [
    "## Introdução"
   ]
  },
  {
   "cell_type": "markdown",
   "id": "2ed1566e-2fc7-49f4-9b3c-5bf64eb5656c",
   "metadata": {},
   "source": [
    "Com a rápida evolução do mercado financeiro, as estratégias automatizadas têm se tornado indispensáveis, revolucionando a forma como investidores e traders operam. Reconhecendo esse cenário, a startup Agility vislumbrou uma oportunidade de oferecer um curso online de 4 horas sobre Técnicas de Trading Algorítmico, atendendo à demanda por capacitação técnica nessa área.\n",
    "\n",
    "Contudo, antes de direcionar recursos ao desenvolvimento e lançamento do curso, tornou-se necessário realizar um estudo estruturado para responder a questões fundamentais: existe demanda real para este produto? Qual o perfil do público-alvo? Qual o preço ideal que combine atratividade e viabilidade financeira?\n",
    "\n",
    "Com base nessas perguntas, foi conduzido um estudo abrangente que incluiu uma pesquisa de mercado utilizando questionários estruturados e uma análise detalhada dos dados coletados. O objetivo principal foi compreender o potencial do curso no mercado, validar seu público-alvo e fornecer uma base sólida para decisões estratégicas.\n",
    "\n",
    "Os resultados deste estudo não apenas revelam insights sobre o interesse e a disposição para pagamento, como também traçaram um perfil claro dos potenciais clientes, identificando oportunidades e desafios para o sucesso do projeto."
   ]
  },
  {
   "cell_type": "markdown",
   "id": "0b21008f-33a6-4f0b-9bee-10342d1b635a",
   "metadata": {},
   "source": [
    "## Objetivo"
   ]
  },
  {
   "cell_type": "markdown",
   "id": "9ac3af09-c5b2-44c6-8f7f-870f05aacba1",
   "metadata": {},
   "source": [
    "O presente estudo foi desenvolvido com o propósito de fundamentar as decisões estratégicas da startup Agility no lançamento do curso de Técnicas de Trading Algorítmico. Os objetivos principais incluem:\n",
    "\n",
    "### Avaliar o Interesse pelo Curso\n",
    "\n",
    "- Identificar o percentual de potenciais clientes que demonstram interesse em adquirir o curso.\n",
    "- Determinar se há demanda suficiente para justificar o investimento no desenvolvimento do produto.\n",
    "  \n",
    "### Definir o Preço Médio Aceitável\n",
    "\n",
    "- Estimar o valor que o público-alvo estaria disposto a pagar pelo curso.\n",
    "- Estabelecer uma precificação que seja viável financeiramente e atraente para os clientes.\n",
    "\n",
    "### Traçar o Perfil Demográfico e Comportamental\n",
    "\n",
    "- Mapear características como idade, gênero, escolaridade e comportamento de consumo dos interessados.\n",
    "- Orientar estratégias de marketing personalizadas e aumentar a eficácia na comunicação com os potenciais clientes.\n",
    "\n",
    "### Analisar Limitações da Pesquisa\n",
    "\n",
    "- Identificar possíveis restrições, como viés de amostra ou falta de representatividade dos respondentes.\n",
    "- Propor soluções para superar essas limitações, ampliando o alcance e a confiabilidade dos resultados, de forma a oferecer uma base sólida para a tomada de decisões.\n",
    "\n",
    "Esses objetivos servem como pilares para validar a viabilidade do curso, garantir alinhamento com as expectativas do mercado e criar estratégias eficientes para seu lançamento e promoção."
   ]
  },
  {
   "cell_type": "markdown",
   "id": "d04bc18f-07c1-462e-a7e6-44a443eaf6df",
   "metadata": {},
   "source": [
    "## Apresentação dos Dados"
   ]
  },
  {
   "cell_type": "markdown",
   "id": "9e6cbbf6-c7d3-42db-a453-5e10a3f99b23",
   "metadata": {
    "jp-MarkdownHeadingCollapsed": true,
    "tags": []
   },
   "source": [
    "Para avaliar o potencial de mercado do curso de Técnicas de Trading Algorítmico, a startup Agility realizou uma pesquisa utilizando um questionário estruturado na plataforma SurveyMonkey. A seguir, são apresentados os principais detalhes sobre a coleta de dados:\n",
    "\n",
    "### Validação e Preço mínimo\n",
    "\n",
    "O curso só será desenvolvido caso ao menos 25% do público demonstre interesse real, garantindo a demanda mínima. Além disso, o preço mínimo de R$ 85,00 foi definido para assegurar a sustentabilidade financeira da operação desde o início.\n",
    "\n",
    "### Número de Respondentes\n",
    "\n",
    "A pesquisa contou com a participação de 120 respondentes, que responderam a perguntas relacionadas ao interesse no curso, disposição para pagamento e informações demográficas. Para garantir a integridade dos dados, todas as respostas foram submetidas a um tratamento cuidadoso, corrigindo possíveis preenchimentos em branco ou inconsistências.\n",
    "\n",
    "### Estrutura do Questionário\n",
    "\n",
    "O questionário foi elaborado com foco em quatro dimensões fundamentais para a análise:\n",
    "\n",
    "- Valor que pagaria pelo curso: Pergunta obrigatória, projetada para evitar respostas ausentes. Não era possível deixar em branco.\n",
    "- Sexo biológico: Coletado para identificar diferenças demográficas no interesse.\n",
    "- Faixa etária: Classificação em grupos de idade para segmentação do público-alvo.\n",
    "- Escolaridade: Nível educacional para compreender o perfil acadêmico dos interessados.\n",
    "  \n",
    "### Alcance Geográfico\n",
    "\n",
    "A pesquisa foi distribuída de forma digital, direcionada à rede de contatos da startup, composta majoritariamente por pessoas localizadas no Brasil, sobretudo em grandes centros urbanos. Esse público é predominantemente urbano e conectado, com acesso a tecnologias e um interesse prévio no mercado financeiro.\n",
    "\n",
    "### Limitações Identificadas\n",
    "\n",
    "A análise revelou algumas restrições que podem influenciar os resultados:\n",
    "\n",
    "- Viés da Amostra: A pesquisa foi limitada à rede de contatos dos fundadores, o que pode ter gerado uma amostra composta por indivíduos já inclinados ao tema de trading ou com maior proximidade com a startup, comprometendo a representatividade.\n",
    "- Ausência de Opções para \"Não Interessados\": A falta de alternativas claras para participantes sem interesse no curso resultou em algumas respostas em branco relacionadas ao valor que pagariam. Essas respostas precisaram ser tratadas posteriormente para evitar distorções."
   ]
  },
  {
   "cell_type": "markdown",
   "id": "b228a6f1-d2c9-48d7-aff9-e63b35be40a5",
   "metadata": {},
   "source": [
    "## Metodologia"
   ]
  },
  {
   "cell_type": "markdown",
   "id": "a58f9b66-5f4b-4b63-8b3a-e189976e8f41",
   "metadata": {},
   "source": [
    "### Estrutura dos Dados"
   ]
  },
  {
   "cell_type": "code",
   "execution_count": 1,
   "id": "6681222d-7f34-4c8f-9bd8-881b4ba4494f",
   "metadata": {},
   "outputs": [],
   "source": [
    "# Importação das bibliotecas que serão utilizadas\n",
    "\n",
    "import pandas as pd\n",
    "import numpy as np\n",
    "import matplotlib.pyplot as plt\n",
    "import seaborn as sns"
   ]
  },
  {
   "cell_type": "markdown",
   "id": "87ffb96e-9032-4da8-9bc1-3b2d20164ae1",
   "metadata": {},
   "source": [
    "A pesquisa foi realizada com base em um questionário estruturado, e as variáveis analisadas foram:"
   ]
  },
  {
   "cell_type": "code",
   "execution_count": 19,
   "id": "13a0e7a6-1d09-4a6c-9cc2-2a355ef1836f",
   "metadata": {},
   "outputs": [
    {
     "name": "stdout",
     "output_type": "stream",
     "text": [
      "<class 'pandas.core.frame.DataFrame'>\n",
      "RangeIndex: 39 entries, 0 to 38\n",
      "Data columns (total 7 columns):\n",
      " #   Column              Non-Null Count  Dtype \n",
      "---  ------              --------------  ----- \n",
      " 0   id_do_respondente   39 non-null     int64 \n",
      " 1   interesse_no_Curso  39 non-null     int64 \n",
      " 2   valor_que_pagaria   39 non-null     int64 \n",
      " 3   sexo                39 non-null     object\n",
      " 4   faixa_etária        39 non-null     object\n",
      " 5   escolaridade        39 non-null     object\n",
      " 6   possivel_comprador  39 non-null     int64 \n",
      "dtypes: int64(4), object(3)\n",
      "memory usage: 2.3+ KB\n"
     ]
    }
   ],
   "source": [
    "# Lendo os dados da planilha Excel\n",
    "\n",
    "# Dados tratados\n",
    "\n",
    "df = pd.read_excel('estudo_agility.xlsx', sheet_name=\"dados_tratados\")\n",
    "\n",
    "# Dados da Campanha\n",
    "\n",
    "dfs = pd.read_excel('estudo_agility.xlsx')\n",
    "\n",
    "df.info()"
   ]
  },
  {
   "cell_type": "markdown",
   "id": "979d2e11-ceb8-4b59-8237-4d730cc1239e",
   "metadata": {},
   "source": [
    "### Abordagem de Análise"
   ]
  },
  {
   "cell_type": "markdown",
   "id": "44128f9e-0268-4be7-8ab3-2144d0561de3",
   "metadata": {},
   "source": [
    "A análise seguiu duas etapas principais:\n",
    "\n",
    "#### Exploratória\n",
    "\n",
    "Na fase exploratória, foi realizada uma avaliação inicial dos dados coletados com os seguintes objetivos:\n",
    "\n",
    "- Identificar padrões gerais e tendências nos dados.\n",
    "- Verificar a integridade das respostas, tratando possíveis inconsistências ou valores ausentes.\n",
    "- Resumir estatísticas descritivas das variáveis principais, como média, mediana e distribuições de frequência.\n",
    "\n",
    "Essa etapa permitiu uma visão inicial sobre o perfil dos respondentes e os padrões relacionados ao interesse pelo curso e à disposição para pagamento.\n",
    "\n",
    "#### Bidimiensional\n",
    "\n",
    "A análise bidimensional envolveu o cruzamento de variáveis para entender como elas se relacionam entre si e com as métricas de interesse, como a variável interesse_no_Curso. O método aplicado foi:\n",
    "\n",
    "- Cálculo do IV (Information Value): Para avaliar a influência de variáveis como faixa etária, sexo e escolaridade no interesse pelo curso.\n",
    "\n",
    "Os resultados mostraram que a faixa etária teve maior influência no interesse pelo curso, enquanto outras variáveis, como sexo e escolaridade, apresentaram impacto reduzido."
   ]
  },
  {
   "cell_type": "markdown",
   "id": "7b68c9a9-f17b-461d-a668-8ff82cefa10d",
   "metadata": {},
   "source": [
    "## Resultados da Análise"
   ]
  },
  {
   "cell_type": "markdown",
   "id": "b53b3c5e-d118-4a5d-a2d8-49d4725ad584",
   "metadata": {},
   "source": [
    "### Interesse pelo Curso"
   ]
  },
  {
   "cell_type": "code",
   "execution_count": 20,
   "id": "a7025a70-1c43-4399-8d8c-7502f84a057e",
   "metadata": {},
   "outputs": [
    {
     "data": {
      "image/png": "[encoded data removed]",
      "text/plain": [
       "<Figure size 800x800 with 1 Axes>"
      ]
     },
     "metadata": {},
     "output_type": "display_data"
    }
   ],
   "source": [
    "# Contagem de valores da coluna \"interesse_no_Curso\" para o gráfico de pizza\n",
    "interesse_counts = dfs[\"interesse_no_Curso\"].value_counts()\n",
    "\n",
    "# Criando o gráfico de pizza para o interesse no curso\n",
    "plt.figure(figsize=(8, 8))\n",
    "plt.pie(interesse_counts, labels=interesse_counts.index, autopct='%1.1f%%', startangle=140)\n",
    "plt.title(\"Interesse no Curso\")\n",
    "plt.show()"
   ]
  },
  {
   "cell_type": "markdown",
   "id": "c589d6d8-ff6e-4e5e-9e47-948caaa34c7e",
   "metadata": {},
   "source": [
    "Cerca de 32,5% dos respondentes demonstraram interesse em participar do curso, superando o limite mínimo de 25% estabelecido como critério de viabilidade. Este resultado indica que há demanda suficiente para justificar o desenvolvimento do produto."
   ]
  },
  {
   "cell_type": "markdown",
   "id": "3fb849fa-3ab6-4f89-8915-ea0c7eff4170",
   "metadata": {},
   "source": [
    "### Preço"
   ]
  },
  {
   "cell_type": "code",
   "execution_count": 13,
   "id": "93b22521-dc14-49a4-a130-cd811bde6304",
   "metadata": {},
   "outputs": [
    {
     "data": {
      "text/plain": [
       "{'whiskers': [<matplotlib.lines.Line2D at 0x2ba594489a0>,\n",
       "  <matplotlib.lines.Line2D at 0x2ba59448d00>],\n",
       " 'caps': [<matplotlib.lines.Line2D at 0x2ba594410a0>,\n",
       "  <matplotlib.lines.Line2D at 0x2ba59441400>],\n",
       " 'boxes': [<matplotlib.lines.Line2D at 0x2ba59448640>],\n",
       " 'medians': [<matplotlib.lines.Line2D at 0x2ba59441760>],\n",
       " 'fliers': [<matplotlib.lines.Line2D at 0x2ba59441a60>],\n",
       " 'means': []}"
      ]
     },
     "execution_count": 13,
     "metadata": {},
     "output_type": "execute_result"
    },
    {
     "data": {
      "image/png": "[encoded data removed]",
      "text/plain": [
       "<Figure size 640x480 with 1 Axes>"
      ]
     },
     "metadata": {},
     "output_type": "display_data"
    }
   ],
   "source": [
    "plt.boxplot(df['valor_que_pagaria'])"
   ]
  },
  {
   "cell_type": "markdown",
   "id": "5fc0f03f-89ed-42cb-86ba-678f0d1d8a03",
   "metadata": {},
   "source": [
    "Com base no gráfico box-plot acima, é possível extrair diversas informações valiosas que auxiliam na compreensão do comportamento dos consumidores e na definição de estratégias de mercado. A seguir, são apresentadas algumas conclusões:\n",
    "\n",
    "#### Preço Base de Referência \n",
    "\n",
    "   O valor mínimo de 73,00 reais indica que há um grupo disposto a pagar um preço bastante baixo, possivelmente mais sensível a variações de preço. Para estratégias de segmentação de mercado, pode ser interessante atender esse público com versões econômicas ou promoções.\n",
    "\n",
    "#### Disposição Geral para Pagamento \n",
    "\n",
    "   A mediana de 90,00 reais demonstra que a maior parte dos respondentes concentrada em valores próximos a esse ponto. Isso sugere que 90,00 reais pode ser considerado um valor \"justo\" e amplamente aceitável para a maioria dos consumidores.\n",
    "\n",
    "#### Influência de Valores Altos\n",
    "\n",
    "   A diferença entre a média (91,46 reais) e a mediana (90,00 reais) é pequena, mas revela uma ligeira inclinação para valores mais altos. Isso é reforçado pelo valor máximo de 110,00 reais, mostrando que alguns consumidores estão dispostos a pagar valores acima da média, o que pode ser explorado com produtos premium ou edições especiais.\n",
    "\n",
    "#### Segmentação de Preço\n",
    "\n",
    "   O 1º quartil (86,50 reais) e o 3º quartil (96,50 reais) destacam dois grupos distintos:\n",
    "   \n",
    "   - **Sensíveis ao preço**: Até 25% dos consumidores estão dispostos a pagar até 86,50 reais.\n",
    "   - **Dispostos a pagar mais**: Três quartos dos consumidores estão dispostos a pagar até 96,50 reais.\n",
    "     \n",
    "   Esses dados permitem a criação de estratégias de preço diferenciadas, como promoções para atrair os mais sensíveis e produtos de maior valor agregado para o grupo mais disposto a pagar.\n",
    "\n",
    "#### Limite de Preço Viável\n",
    "\n",
    "   Com o valor máximo declarado em 110,00 reais, há espaço para explorar o teto de preço, mas é fundamental entender que esses consumidores representam uma minoria. Estratégias que ultrapassem esse valor podem ser arriscadas sem maior análise de viabilidade.\n",
    "\n",
    "#### Preço Ideal e Estratégias\n",
    "\n",
    "   O intervalo entre 86,50 reais (1º quartil) e 96,50 reais (3º quartil) apresenta uma faixa na qual está a disposição de pagamento de 50% dos consumidores. Isso torna esses valores ideais para definir um preço competitivo e maximizar a aceitação do produto ou serviço.\n",
    "\n",
    "Essas análises podem orientar tanto estratégias de precificação quanto decisões sobre como posicionar o produto no mercado para atender diferentes perfis de consumidores."
   ]
  },
  {
   "cell_type": "markdown",
   "id": "dcd7cee7-d2b9-4b75-af8a-c324abc45f37",
   "metadata": {
    "tags": []
   },
   "source": [
    "### Perfil dos Interessados"
   ]
  },
  {
   "cell_type": "markdown",
   "id": "cbdb7b70-86f3-43bc-af97-ed33c326ca23",
   "metadata": {
    "jp-MarkdownHeadingCollapsed": true,
    "tags": []
   },
   "source": [
    "A análise revelou características claras do público interessado:"
   ]
  },
  {
   "cell_type": "markdown",
   "id": "57c5c44f-4644-44fb-a455-2ee1c8227a23",
   "metadata": {
    "tags": []
   },
   "source": [
    "#### Gênero predominante\n",
    "\n",
    "71,8% são homens, sugerindo maior apelo do curso para o público masculino."
   ]
  },
  {
   "cell_type": "code",
   "execution_count": 22,
   "id": "efe61df5-fa85-4ec2-845e-41caddc7c177",
   "metadata": {},
   "outputs": [
    {
     "data": {
      "image/png": "[encoded data removed]",
      "text/plain": [
       "<Figure size 800x800 with 1 Axes>"
      ]
     },
     "metadata": {},
     "output_type": "display_data"
    }
   ],
   "source": [
    "# Contagem de valores da coluna \"Gênero\" para o gráfico de pizza\n",
    "genero_counts = df[\"sexo\"].value_counts()\n",
    "\n",
    "# Criando o gráfico de pizza para o interesse no curso\n",
    "plt.figure(figsize=(8, 8))\n",
    "plt.pie(genero_counts, labels=genero_counts.index, autopct='%1.1f%%', startangle=140)\n",
    "plt.title(\"Distribuição de Gênero\")\n",
    "plt.show()"
   ]
  },
  {
   "cell_type": "markdown",
   "id": "5530bef9-8b8e-4aa9-854e-6e70005bb6c0",
   "metadata": {
    "tags": []
   },
   "source": [
    "#### Faixa etária dominante\n",
    "\n",
    "A maioria dos interessados está na faixa de 30 a 39 anos, indicando um público jovem-adulto em busca de capacitação técnica."
   ]
  },
  {
   "cell_type": "code",
   "execution_count": 30,
   "id": "d5a79ecd-6cfc-4c00-b5d8-310aca9bfb08",
   "metadata": {},
   "outputs": [
    {
     "data": {
      "text/plain": [
       "35-39    41.025641\n",
       "30-34    25.641026\n",
       "25-29    10.256410\n",
       "45-49    10.256410\n",
       "<18       5.128205\n",
       "18-24     5.128205\n",
       "50-54     2.564103\n",
       "Name: faixa_etária, dtype: float64"
      ]
     },
     "execution_count": 30,
     "metadata": {},
     "output_type": "execute_result"
    }
   ],
   "source": [
    "# Contagem da frequência relativa das faixas etárias (percentual)\n",
    "faixa_etaria_percentual = df[\"faixa_etária\"].value_counts(normalize=True) * 100\n",
    "\n",
    "faixa_etaria_percentual"
   ]
  },
  {
   "cell_type": "code",
   "execution_count": 28,
   "id": "1a1f6cd4-92aa-4b41-87ea-0a6224c79b98",
   "metadata": {},
   "outputs": [
    {
     "data": {
      "image/png": "[encoded data removed]",
      "text/plain": [
       "<Figure size 1000x600 with 1 Axes>"
      ]
     },
     "metadata": {},
     "output_type": "display_data"
    }
   ],
   "source": [
    "# Criando o histograma\n",
    "plt.figure(figsize=(10, 6))\n",
    "plt.bar(faixa_etaria_percentual.index, faixa_etaria_percentual.values)\n",
    "plt.xlabel(\"Faixa Etária\")\n",
    "plt.ylabel(\"Frequência (%)\")\n",
    "plt.title(\"Distribuição Percentual das Faixas Etárias\")\n",
    "plt.xticks(rotation=45)  # Rotaciona os rótulos para melhor leitura\n",
    "plt.grid(axis=\"y\", linestyle=\"--\", alpha=0.7)\n",
    "\n",
    "# Exibir o gráfico\n",
    "plt.show()"
   ]
  },
  {
   "cell_type": "markdown",
   "id": "d77273d0-b071-461a-ad6e-7358e71ec358",
   "metadata": {},
   "source": [
    "#### Escolaridade dos interessados\n",
    "\n",
    "A maioria possui Ensino Superior ou Pós-Graduação, representando cerca de 54% da amostra, enquanto os demais níveis educacionais (Ensino Fundamental e Médio) correspondem a 46%. "
   ]
  },
  {
   "cell_type": "code",
   "execution_count": 31,
   "id": "07a1b50b-6ffe-42d5-89df-02b58bb9ad2e",
   "metadata": {},
   "outputs": [
    {
     "data": {
      "text/plain": [
       "Pós Graduação         33.333333\n",
       "Ensino Médio          25.641026\n",
       "Ensino Fundamental    20.512821\n",
       "Ensino Superior       20.512821\n",
       "Name: escolaridade, dtype: float64"
      ]
     },
     "execution_count": 31,
     "metadata": {},
     "output_type": "execute_result"
    }
   ],
   "source": [
    "# Contagem da frequência relativa da escolaridade (percentual)\n",
    "escolaridade_percentual = df[\"escolaridade\"].value_counts(normalize=True) * 100\n",
    "\n",
    "escolaridade_percentual"
   ]
  },
  {
   "cell_type": "code",
   "execution_count": 29,
   "id": "e74becb8-7c1a-4d78-87a6-3b633fb6263c",
   "metadata": {},
   "outputs": [
    {
     "data": {
      "image/png": "[encoded data removed]",
      "text/plain": [
       "<Figure size 1000x600 with 1 Axes>"
      ]
     },
     "metadata": {},
     "output_type": "display_data"
    }
   ],
   "source": [
    "# Criando o histograma\n",
    "plt.figure(figsize=(10, 6))\n",
    "plt.bar(escolaridade_percentual.index, escolaridade_percentual.values)\n",
    "plt.xlabel(\"Escolaridade\")\n",
    "plt.ylabel(\"Frequência (%)\")\n",
    "plt.title(\"Escolaridade dos Interessados\")\n",
    "plt.xticks(rotation=45)  # Rotaciona os rótulos para melhor leitura\n",
    "plt.grid(axis=\"y\", linestyle=\"--\", alpha=0.7)\n",
    "\n",
    "# Exibir o gráfico\n",
    "plt.show()"
   ]
  },
  {
   "cell_type": "markdown",
   "id": "e91f5359-5ca6-48b1-af95-46bb73d0c518",
   "metadata": {
    "tags": []
   },
   "source": [
    "### Cálculo de relevância das variáveis"
   ]
  },
  {
   "cell_type": "markdown",
   "id": "442240fe-6573-4bf0-9ff2-9f9afcacbe83",
   "metadata": {},
   "source": [
    "O cálculo de IV (Information Value) foi realizado para avaliar a relevância de variáveis específicas no interesse pelo curso e no valor que os respondentes estão dispostos a pagar.\n",
    "\n",
    "O IV (Information Value) mede a capacidade de uma variável em distinguir entre grupos de interesse. No caso, calculou-se o IV para o “Interesse no Curso” em relação às variáveis."
   ]
  },
  {
   "cell_type": "code",
   "execution_count": 107,
   "id": "b25aef85-6df3-496b-9c08-04c82b1fefa6",
   "metadata": {},
   "outputs": [
    {
     "data": {
      "text/html": [
       "<div>\n",
       "<style scoped>\n",
       "    .dataframe tbody tr th:only-of-type {\n",
       "        vertical-align: middle;\n",
       "    }\n",
       "\n",
       "    .dataframe tbody tr th {\n",
       "        vertical-align: top;\n",
       "    }\n",
       "\n",
       "    .dataframe thead th {\n",
       "        text-align: right;\n",
       "    }\n",
       "</style>\n",
       "<table border=\"1\" class=\"dataframe\">\n",
       "  <thead>\n",
       "    <tr style=\"text-align: right;\">\n",
       "      <th>interesse_no_Curso</th>\n",
       "      <th>Não</th>\n",
       "      <th>Sim</th>\n",
       "      <th>LN(Odds)</th>\n",
       "      <th>IV</th>\n",
       "    </tr>\n",
       "    <tr>\n",
       "      <th>Faixa Etária</th>\n",
       "      <th></th>\n",
       "      <th></th>\n",
       "      <th></th>\n",
       "      <th></th>\n",
       "    </tr>\n",
       "  </thead>\n",
       "  <tbody>\n",
       "    <tr>\n",
       "      <th>18-24</th>\n",
       "      <td>0.037037</td>\n",
       "      <td>0.051282</td>\n",
       "      <td>-0.325422</td>\n",
       "      <td>0.004636</td>\n",
       "    </tr>\n",
       "    <tr>\n",
       "      <th>25-29</th>\n",
       "      <td>0.148148</td>\n",
       "      <td>0.102564</td>\n",
       "      <td>0.367725</td>\n",
       "      <td>0.016762</td>\n",
       "    </tr>\n",
       "    <tr>\n",
       "      <th>30-34</th>\n",
       "      <td>0.172840</td>\n",
       "      <td>0.256410</td>\n",
       "      <td>-0.394415</td>\n",
       "      <td>0.032962</td>\n",
       "    </tr>\n",
       "    <tr>\n",
       "      <th>35-39</th>\n",
       "      <td>0.246914</td>\n",
       "      <td>0.410256</td>\n",
       "      <td>-0.507744</td>\n",
       "      <td>0.082936</td>\n",
       "    </tr>\n",
       "    <tr>\n",
       "      <th>40-44</th>\n",
       "      <td>0.222222</td>\n",
       "      <td>0.000000</td>\n",
       "      <td>0.000000</td>\n",
       "      <td>0.000000</td>\n",
       "    </tr>\n",
       "    <tr>\n",
       "      <th>45-49</th>\n",
       "      <td>0.123457</td>\n",
       "      <td>0.102564</td>\n",
       "      <td>0.185403</td>\n",
       "      <td>0.003874</td>\n",
       "    </tr>\n",
       "    <tr>\n",
       "      <th>50-54</th>\n",
       "      <td>0.037037</td>\n",
       "      <td>0.025641</td>\n",
       "      <td>0.367725</td>\n",
       "      <td>0.004191</td>\n",
       "    </tr>\n",
       "    <tr>\n",
       "      <th>&lt;18</th>\n",
       "      <td>0.012346</td>\n",
       "      <td>0.051282</td>\n",
       "      <td>-1.424035</td>\n",
       "      <td>0.055447</td>\n",
       "    </tr>\n",
       "  </tbody>\n",
       "</table>\n",
       "</div>"
      ],
      "text/plain": [
       "interesse_no_Curso       Não       Sim  LN(Odds)        IV\n",
       "Faixa Etária                                              \n",
       "18-24               0.037037  0.051282 -0.325422  0.004636\n",
       "25-29               0.148148  0.102564  0.367725  0.016762\n",
       "30-34               0.172840  0.256410 -0.394415  0.032962\n",
       "35-39               0.246914  0.410256 -0.507744  0.082936\n",
       "40-44               0.222222  0.000000  0.000000  0.000000\n",
       "45-49               0.123457  0.102564  0.185403  0.003874\n",
       "50-54               0.037037  0.025641  0.367725  0.004191\n",
       "<18                 0.012346  0.051282 -1.424035  0.055447"
      ]
     },
     "execution_count": 107,
     "metadata": {},
     "output_type": "execute_result"
    }
   ],
   "source": [
    "# IV de Faixa Etária x Interesse no Curso\n",
    "\n",
    "# Criar a tabela de contingência entre \"interesse_no_Curso\" e \"faixa_etária\"\n",
    "df_iv_1 = pd.crosstab(dfs[\"faixa_etária\"], dfs[\"interesse_no_Curso\"], normalize='columns')\n",
    "\n",
    "# Substituir os valores 0 e 1 por \"Não\" e \"Sim\" na tabela de IV\n",
    "df_iv_1.index.name = \"Faixa Etária\"  # Nomear o índice corretamente\n",
    "df_iv_1 = df_iv_1.rename(columns={1: \"Sim\", 0: \"Não\"})\n",
    "\n",
    "# Calcular LN(Odds)\n",
    "\n",
    "df_iv_1[\"LN(Odds)\"] = np.log(df_iv_1[\"Não\"] / df_iv_1[\"Sim\"])\n",
    "\n",
    "# Substituir valores infinitos por 0 na tabela de IV\n",
    "\n",
    "df_iv_1.replace([np.inf, -np.inf], 0, inplace=True)\n",
    "\n",
    "# Calcular o IV para cada faixa etária\\\n",
    "\n",
    "df_iv_1[\"IV\"] = (df_iv_1[\"Não\"] - df_iv_1[\"Sim\"]) * df_iv_1[\"LN(Odds)\"]\n",
    "\n",
    "# Exibir a tabela de IV\n",
    "\n",
    "df_iv_1"
   ]
  },
  {
   "cell_type": "code",
   "execution_count": 110,
   "id": "a5b9c6ec-c847-438b-85ad-418d154d17c0",
   "metadata": {},
   "outputs": [
    {
     "data": {
      "text/plain": [
       "0.2008"
      ]
     },
     "execution_count": 110,
     "metadata": {},
     "output_type": "execute_result"
    }
   ],
   "source": [
    "# Somar o IV total\n",
    "\n",
    "IV_total = df_iv_1[\"IV\"].sum().round(4)\n",
    "\n",
    "IV_total"
   ]
  },
  {
   "cell_type": "code",
   "execution_count": 108,
   "id": "200a1040-1987-483e-8841-b86334bdecd5",
   "metadata": {},
   "outputs": [
    {
     "data": {
      "text/html": [
       "<div>\n",
       "<style scoped>\n",
       "    .dataframe tbody tr th:only-of-type {\n",
       "        vertical-align: middle;\n",
       "    }\n",
       "\n",
       "    .dataframe tbody tr th {\n",
       "        vertical-align: top;\n",
       "    }\n",
       "\n",
       "    .dataframe thead th {\n",
       "        text-align: right;\n",
       "    }\n",
       "</style>\n",
       "<table border=\"1\" class=\"dataframe\">\n",
       "  <thead>\n",
       "    <tr style=\"text-align: right;\">\n",
       "      <th>interesse_no_Curso</th>\n",
       "      <th>Não</th>\n",
       "      <th>Sim</th>\n",
       "      <th>LN(Odds)</th>\n",
       "      <th>IV</th>\n",
       "    </tr>\n",
       "    <tr>\n",
       "      <th>Gênero</th>\n",
       "      <th></th>\n",
       "      <th></th>\n",
       "      <th></th>\n",
       "      <th></th>\n",
       "    </tr>\n",
       "  </thead>\n",
       "  <tbody>\n",
       "    <tr>\n",
       "      <th>F</th>\n",
       "      <td>0.259259</td>\n",
       "      <td>0.282051</td>\n",
       "      <td>-0.084260</td>\n",
       "      <td>0.001920</td>\n",
       "    </tr>\n",
       "    <tr>\n",
       "      <th>M</th>\n",
       "      <td>0.740741</td>\n",
       "      <td>0.717949</td>\n",
       "      <td>0.031253</td>\n",
       "      <td>0.000712</td>\n",
       "    </tr>\n",
       "  </tbody>\n",
       "</table>\n",
       "</div>"
      ],
      "text/plain": [
       "interesse_no_Curso       Não       Sim  LN(Odds)        IV\n",
       "Gênero                                                    \n",
       "F                   0.259259  0.282051 -0.084260  0.001920\n",
       "M                   0.740741  0.717949  0.031253  0.000712"
      ]
     },
     "execution_count": 108,
     "metadata": {},
     "output_type": "execute_result"
    }
   ],
   "source": [
    "# IV de Gênero x Interesse no Curso\n",
    "\n",
    "# Criar a tabela de contingência entre \"sexo\" e \"faixa_etária\"\n",
    "df_iv_2 = pd.crosstab(dfs[\"sexo\"], dfs[\"interesse_no_Curso\"], normalize='columns')\n",
    "\n",
    "# Substituir os valores 0 e 1 por \"Não\" e \"Sim\" na tabela de IV\n",
    "df_iv_2.index.name = \"Gênero\"  # Nomear o índice corretamente\n",
    "df_iv_2 = df_iv_2.rename(columns={1: \"Sim\", 0: \"Não\"})\n",
    "\n",
    "# Calcular LN(Odds)\n",
    "\n",
    "df_iv_2[\"LN(Odds)\"] = np.log(df_iv_2[\"Não\"] / df_iv_2[\"Sim\"])\n",
    "\n",
    "# Substituir valores infinitos por 0 na tabela de IV\n",
    "\n",
    "df_iv_2.replace([np.inf, -np.inf], 0, inplace=True)\n",
    "\n",
    "# Calcular o IV para cada faixa etária\\\n",
    "\n",
    "df_iv_2[\"IV\"] = (df_iv_2[\"Não\"] - df_iv_2[\"Sim\"]) * df_iv_2[\"LN(Odds)\"]\n",
    "\n",
    "# Exibir a tabela de IV\n",
    "\n",
    "df_iv_2"
   ]
  },
  {
   "cell_type": "code",
   "execution_count": 111,
   "id": "1537f973-2faa-4074-a306-83e37aad770a",
   "metadata": {},
   "outputs": [
    {
     "data": {
      "text/plain": [
       "0.0026"
      ]
     },
     "execution_count": 111,
     "metadata": {},
     "output_type": "execute_result"
    }
   ],
   "source": [
    "# Somar o IV total\n",
    "\n",
    "IV_total = df_iv_2[\"IV\"].sum().round(4)\n",
    "\n",
    "IV_total"
   ]
  },
  {
   "cell_type": "code",
   "execution_count": 112,
   "id": "fc96bc3f-ef63-4e0c-a807-c74b48aa6da0",
   "metadata": {},
   "outputs": [
    {
     "data": {
      "text/html": [
       "<div>\n",
       "<style scoped>\n",
       "    .dataframe tbody tr th:only-of-type {\n",
       "        vertical-align: middle;\n",
       "    }\n",
       "\n",
       "    .dataframe tbody tr th {\n",
       "        vertical-align: top;\n",
       "    }\n",
       "\n",
       "    .dataframe thead th {\n",
       "        text-align: right;\n",
       "    }\n",
       "</style>\n",
       "<table border=\"1\" class=\"dataframe\">\n",
       "  <thead>\n",
       "    <tr style=\"text-align: right;\">\n",
       "      <th>interesse_no_Curso</th>\n",
       "      <th>Não</th>\n",
       "      <th>Sim</th>\n",
       "      <th>LN(Odds)</th>\n",
       "      <th>IV</th>\n",
       "    </tr>\n",
       "    <tr>\n",
       "      <th>Escolaridade</th>\n",
       "      <th></th>\n",
       "      <th></th>\n",
       "      <th></th>\n",
       "      <th></th>\n",
       "    </tr>\n",
       "  </thead>\n",
       "  <tbody>\n",
       "    <tr>\n",
       "      <th>Ensino Fundamental</th>\n",
       "      <td>0.283951</td>\n",
       "      <td>0.205128</td>\n",
       "      <td>0.325165</td>\n",
       "      <td>0.025630</td>\n",
       "    </tr>\n",
       "    <tr>\n",
       "      <th>Ensino Médio</th>\n",
       "      <td>0.209877</td>\n",
       "      <td>0.256410</td>\n",
       "      <td>-0.200259</td>\n",
       "      <td>0.009319</td>\n",
       "    </tr>\n",
       "    <tr>\n",
       "      <th>Ensino Superior</th>\n",
       "      <td>0.234568</td>\n",
       "      <td>0.205128</td>\n",
       "      <td>0.134110</td>\n",
       "      <td>0.003948</td>\n",
       "    </tr>\n",
       "    <tr>\n",
       "      <th>Pós Graduação</th>\n",
       "      <td>0.271605</td>\n",
       "      <td>0.333333</td>\n",
       "      <td>-0.204794</td>\n",
       "      <td>0.012642</td>\n",
       "    </tr>\n",
       "  </tbody>\n",
       "</table>\n",
       "</div>"
      ],
      "text/plain": [
       "interesse_no_Curso       Não       Sim  LN(Odds)        IV\n",
       "Escolaridade                                              \n",
       "Ensino Fundamental  0.283951  0.205128  0.325165  0.025630\n",
       "Ensino Médio        0.209877  0.256410 -0.200259  0.009319\n",
       "Ensino Superior     0.234568  0.205128  0.134110  0.003948\n",
       "Pós Graduação       0.271605  0.333333 -0.204794  0.012642"
      ]
     },
     "execution_count": 112,
     "metadata": {},
     "output_type": "execute_result"
    }
   ],
   "source": [
    "# IV de Escolaridade x Interesse no Curso\n",
    "\n",
    "# Criar a tabela de contingência entre \"escolaridade\" e \"faixa_etária\"\n",
    "df_iv_3 = pd.crosstab(dfs[\"escolaridade\"], dfs[\"interesse_no_Curso\"], normalize='columns')\n",
    "\n",
    "# Substituir os valores 0 e 1 por \"Não\" e \"Sim\" na tabela de IV\n",
    "df_iv_3.index.name = \"Escolaridade\"  # Nomear o índice corretamente\n",
    "df_iv_3 = df_iv_3.rename(columns={1: \"Sim\", 0: \"Não\"})\n",
    "\n",
    "# Calcular LN(Odds)\n",
    "\n",
    "df_iv_3[\"LN(Odds)\"] = np.log(df_iv_3[\"Não\"] / df_iv_3[\"Sim\"])\n",
    "\n",
    "# Substituir valores infinitos por 0 na tabela de IV\n",
    "\n",
    "df_iv_3.replace([np.inf, -np.inf], 0, inplace=True)\n",
    "\n",
    "# Calcular o IV para cada faixa etária\\\n",
    "\n",
    "df_iv_3[\"IV\"] = (df_iv_3[\"Não\"] - df_iv_3[\"Sim\"]) * df_iv_3[\"LN(Odds)\"]\n",
    "\n",
    "# Exibir a tabela de IV\n",
    "\n",
    "df_iv_3"
   ]
  },
  {
   "cell_type": "code",
   "execution_count": 113,
   "id": "d90668d4-edc8-4927-b357-78a40f33b7fd",
   "metadata": {
    "tags": []
   },
   "outputs": [
    {
     "data": {
      "text/plain": [
       "0.0515"
      ]
     },
     "execution_count": 113,
     "metadata": {},
     "output_type": "execute_result"
    }
   ],
   "source": [
    "# Somar o IV total\n",
    "\n",
    "IV_total = df_iv_3[\"IV\"].sum().round(4)\n",
    "\n",
    "IV_total"
   ]
  },
  {
   "cell_type": "markdown",
   "id": "acc90986-9a2c-4c35-b64c-73673a6486e4",
   "metadata": {},
   "source": [
    "Os principais resultados foram:\n",
    "\n",
    "- Faixa Etária: Com IV de 0,2008, foi classificada como de influência média, indicando que a idade dos respondentes tem relevância considerável para identificar o público interessado no curso.\n",
    "- Gênero: Apresentou IV de 0,0026, classificado como de influência muito fraca, mostrando que o interesse no curso é praticamente independente do gênero.\n",
    "- Escolaridade: Teve IV de 0,0515, classificado como de influência fraca, o que indica que o nível educacional impacta moderadamente o interesse.\n",
    "\n",
    "Esses resultados sugerem que a faixa etária é a variável mais útil para segmentação do público-alvo."
   ]
  },
  {
   "cell_type": "markdown",
   "id": "dd4a4708-71cb-46e0-a093-7d911557f470",
   "metadata": {
    "tags": []
   },
   "source": [
    "## Conclusão"
   ]
  },
  {
   "cell_type": "markdown",
   "id": "0957d468-65f9-4ed4-b848-97e6a7397028",
   "metadata": {},
   "source": [
    "A análise dos dados indica que o curso de Técnicas de Trading Algorítmico apresenta um alto potencial de sucesso. Entre os principais achados estão:\n",
    "\n",
    "- Interesse significativo: 32,5% dos respondentes demonstraram adesão inicial, superando o critério mínimo de viabilidade, que é de 25%.\n",
    "- Viabilidade financeira: O preço médio disposto a pagar foi de 91,66 reais, acima do mínimo estipulado de 85,00 reais, garantindo a sustentabilidade econômica do curso.\n",
    "- Perfil demográfico definido: O público predominante é composto por homens de 30 a 39 anos, fornecendo uma base sólida para estratégias de marketing direcionadas.\n",
    "- Faixa Etária: Nota-se que a faixa etária do público tem uma relevância considerável para identificar possíveis compradores do curso."
   ]
  },
  {
   "cell_type": "markdown",
   "id": "1792a7a2-8d4e-4b6a-ab86-d7e2c647f7c4",
   "metadata": {},
   "source": [
    "### Recomendações Estratégicas\n",
    "\n",
    "1. Ampliar a pesquisa de mercado:\n",
    "\n",
    "- Expandir o alcance para incluir públicos mais diversos, reduzindo o viés da amostra e validando os resultados obtidos.\n",
    "- Utilizar redes sociais e fóruns especializados para alcançar pessoas fora da rede de contatos da startup.\n",
    "\n",
    "2. Segmentar campanhas de marketing:\n",
    "\n",
    "- Direcionar ações para o perfil predominante (homens entre 30 e 39 anos), utilizando plataformas especializadas em finanças e trading.\n",
    "- Explorar conteúdo que destaque a aplicação prática do curso e sua relevância no mercado financeiro.\n",
    "\n",
    "3. Ajustar a estratégia de precificação:\n",
    "\n",
    "- Implementar testes de diferentes faixas de preço por meio de um MVP (Produto Mínimo Viável) para avaliar a elasticidade de preço e otimizar a receita.\n",
    "- Analisar a disposição a pagar de segmentos específicos para identificar oportunidades de maximização de lucro.\n",
    "\n",
    "### Consideração Final\n",
    "\n",
    "Com base nos resultados da pesquisa e em uma abordagem fundamentada em dados, a Agility tem a oportunidade de transformar os insights obtidos em ações estratégicas que garantirão o sucesso do curso no mercado. Investir em validações adicionais e estratégias de marketing precisas permitirá à empresa consolidar sua posição no segmento de educação em trading algorítmico."
   ]
  }
 ],
 "metadata": {
  "kernelspec": {
   "display_name": "Python 3 (ipykernel)",
   "language": "python",
   "name": "python3"
  },
  "language_info": {
   "codemirror_mode": {
    "name": "ipython",
    "version": 3
   },
   "file_extension": ".py",
   "mimetype": "text/x-python",
   "name": "python",
   "nbconvert_exporter": "python",
   "pygments_lexer": "ipython3",
   "version": "3.8.3"
  }
 },
 "nbformat": 4,
 "nbformat_minor": 5
}
